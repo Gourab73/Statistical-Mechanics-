{
 "cells": [
  {
   "cell_type": "markdown",
   "id": "d2823dba",
   "metadata": {},
   "source": [
    "## Assignment No.: (6)\n",
    "### List of microstates of n bosons distributed in N levels : "
   ]
  },
  {
   "cell_type": "code",
   "execution_count": 7,
   "id": "6b9e3858",
   "metadata": {},
   "outputs": [
    {
     "name": "stdout",
     "output_type": "stream",
     "text": [
      "Number of Bosons: 2\n",
      "Number of energy levels: 4\n",
      "List of microstates:\n",
      "\t\t [0, 0, 0, 2]\n",
      "\t\t [0, 0, 1, 1]\n",
      "\t\t [0, 0, 2, 0]\n",
      "\t\t [0, 1, 0, 1]\n",
      "\t\t [0, 1, 1, 0]\n",
      "\t\t [0, 2, 0, 0]\n",
      "\t\t [1, 0, 0, 1]\n",
      "\t\t [1, 0, 1, 0]\n",
      "\t\t [1, 1, 0, 0]\n",
      "\t\t [2, 0, 0, 0]\n"
     ]
    }
   ],
   "source": [
    "def generate_microstates(n, N):\n",
    "    if N == 1:\n",
    "        return [[n]]\n",
    "    if n == 0:\n",
    "        return [[0] * N]\n",
    "    \n",
    "    microstates = []\n",
    "    for i in range(n + 1):\n",
    "        for state in generate_microstates(n - i, N - 1):\n",
    "            microstate = [i] + state\n",
    "            microstates.append(microstate)\n",
    "    \n",
    "    return microstates\n",
    "\n",
    "n = int(input('Number of Bosons: ')) \n",
    "N = int(input('Number of energy levels: '))\n",
    "microstates = generate_microstates(n, N)\n",
    "print(\"List of microstates:\")\n",
    "for state in microstates:\n",
    "    print('\\t\\t',state)\n"
   ]
  },
  {
   "cell_type": "code",
   "execution_count": null,
   "id": "88734207",
   "metadata": {},
   "outputs": [],
   "source": []
  }
 ],
 "metadata": {
  "kernelspec": {
   "display_name": "Python 3 (ipykernel)",
   "language": "python",
   "name": "python3"
  },
  "language_info": {
   "codemirror_mode": {
    "name": "ipython",
    "version": 3
   },
   "file_extension": ".py",
   "mimetype": "text/x-python",
   "name": "python",
   "nbconvert_exporter": "python",
   "pygments_lexer": "ipython3",
   "version": "3.9.13"
  }
 },
 "nbformat": 4,
 "nbformat_minor": 5
}
